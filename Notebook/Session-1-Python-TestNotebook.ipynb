{
  "nbformat": 4,
  "nbformat_minor": 0,
  "metadata": {
    "colab": {
      "name": "TestNotebook.ipynb",
      "provenance": []
    },
    "kernelspec": {
      "name": "python3",
      "display_name": "Python 3"
    },
    "language_info": {
      "name": "python"
    }
  },
  "cells": [
    {
      "cell_type": "code",
      "execution_count": 1,
      "metadata": {
        "id": "smqAYe_xGt3b"
      },
      "outputs": [],
      "source": [
        "x = 5\n"
      ]
    },
    {
      "cell_type": "code",
      "source": [
        "y = 10\n",
        "z = x+y"
      ],
      "metadata": {
        "id": "H4nPbbtfG0mj"
      },
      "execution_count": 2,
      "outputs": []
    },
    {
      "cell_type": "code",
      "source": [
        "z"
      ],
      "metadata": {
        "colab": {
          "base_uri": "https://localhost:8080/"
        },
        "id": "8mPJPGE9G28D",
        "outputId": "6b25e3d9-d218-4858-cb84-e26c6b062dc1"
      },
      "execution_count": 3,
      "outputs": [
        {
          "output_type": "execute_result",
          "data": {
            "text/plain": [
              "15"
            ]
          },
          "metadata": {},
          "execution_count": 3
        }
      ]
    },
    {
      "cell_type": "code",
      "source": [
        "import numpy"
      ],
      "metadata": {
        "id": "R_-BZwsCG31r"
      },
      "execution_count": 4,
      "outputs": []
    },
    {
      "cell_type": "code",
      "source": [
        ""
      ],
      "metadata": {
        "id": "_Iw32qjiG-Bx"
      },
      "execution_count": null,
      "outputs": []
    }
  ]
}
