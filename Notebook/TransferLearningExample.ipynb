{
  "nbformat": 4,
  "nbformat_minor": 0,
  "metadata": {
    "colab": {
      "name": "TransferLearningExample.ipynb",
      "provenance": []
    },
    "kernelspec": {
      "name": "python3",
      "display_name": "Python 3"
    },
    "language_info": {
      "name": "python"
    }
  },
  "cells": [
    {
      "cell_type": "code",
      "execution_count": null,
      "metadata": {
        "id": "e3cJiUl8IFpg"
      },
      "outputs": [],
      "source": [
        "from tensorflow import keras\n",
        "\n",
        "new_model = keras.models.load_model(\"mnist-model.h5\")"
      ]
    },
    {
      "cell_type": "code",
      "source": [
        "new_model.summary()"
      ],
      "metadata": {
        "colab": {
          "base_uri": "https://localhost:8080/"
        },
        "id": "xDEU1xBEIMBB",
        "outputId": "6958f8e0-c22e-4c16-c5ec-37053c9bad0e"
      },
      "execution_count": null,
      "outputs": [
        {
          "output_type": "stream",
          "name": "stdout",
          "text": [
            "Model: \"sequential\"\n",
            "_________________________________________________________________\n",
            " Layer (type)                Output Shape              Param #   \n",
            "=================================================================\n",
            " dense (Dense)               (None, 128)               100480    \n",
            "                                                                 \n",
            " dense_1 (Dense)             (None, 128)               16512     \n",
            "                                                                 \n",
            " dense_2 (Dense)             (None, 64)                8256      \n",
            "                                                                 \n",
            " dense_3 (Dense)             (None, 10)                650       \n",
            "                                                                 \n",
            "=================================================================\n",
            "Total params: 125,898\n",
            "Trainable params: 125,898\n",
            "Non-trainable params: 0\n",
            "_________________________________________________________________\n"
          ]
        }
      ]
    },
    {
      "cell_type": "code",
      "source": [
        "import numpy as np\n",
        "import cv2"
      ],
      "metadata": {
        "id": "2jhx-EVFIMD4"
      },
      "execution_count": null,
      "outputs": []
    },
    {
      "cell_type": "code",
      "source": [
        "np.set_printoptions(precision=None, threshold=None, edgeitems=None, linewidth=180, suppress=None)\n"
      ],
      "metadata": {
        "id": "hriv7Er-IpUf"
      },
      "execution_count": null,
      "outputs": []
    },
    {
      "cell_type": "code",
      "source": [
        "image_path = \"test.png\"\n",
        "grey_image = cv2.cvtColor(cv2.imread(image_path), cv2.COLOR_BGR2GRAY)\n",
        "img = np.invert(cv2.resize(grey_image,(28,28)))\n",
        "print(img)\n",
        "test_img = img.reshape((1,784))"
      ],
      "metadata": {
        "colab": {
          "base_uri": "https://localhost:8080/"
        },
        "id": "ovfWS78OIMGt",
        "outputId": "fec7378e-5788-455e-ccae-a11aabbb8ee0"
      },
      "execution_count": null,
      "outputs": [
        {
          "output_type": "stream",
          "name": "stdout",
          "text": [
            "[[  0   0   0   0   0   0   0   0   0   0   0   0   0   0   0   0   0   0   0   0   0   0   0   0   0   0   0   0]\n",
            " [  0   0   0   0   0   0   0   0   0   0   0   0   0   0   0   0   0   0   0   0   0   0   0   0   0   0   0   0]\n",
            " [  0   0   0   0   0   0   0   0   0   0   0   0   0   0   0   0   0   0   0   0   0   0   0   0   0   0   0   0]\n",
            " [  0   0   0   0   0   0   0   0   0   0   0   0   0   0   0   0   0   0   0   0   0   0   0   0   0   0   0   0]\n",
            " [  0   0   0   0   0   0   0   0   0   0  60 179 194 173  39   0   0   0   0   0   0   0   0   0   0   0   0   0]\n",
            " [  0   0   0   0   0   0   0   0   2 213 255 255 255 255 255   0   0   0   0   0   0   0   0   0   0   0   0   0]\n",
            " [  0   0   0   0   0   0   0   0 163 255 255 255 255 255 253   0   0   0   0   0   0   0   0   0   0   0   0   0]\n",
            " [  0   0   0   0   0   0   0  60 255 255 255 205   8 100   4   0   0   0   0   0   0   0   0   0   0   0   0   0]\n",
            " [  0   0   0   0   0   0   0 226 255 255 197   0   0   0   0   0   0   0   0   0   0   0   0   0   0   0   0   0]\n",
            " [  0   0   0   0   0   0  24 255 255 255  69   0   0   0   0   0   0   0   0   0   0   0   0   0   0   0   0   0]\n",
            " [  0   0   0   0   0   0  28 255 255 255   2   0   0   0   0   0   0   0   0   0   0   0   0   0   0   0   0   0]\n",
            " [  0   0   0   0   0   0  27 255 255 255   0   3  90  98  98  90   3   0   0   0   0   0   0   0   0   0   0   0]\n",
            " [  0   0   0   0   0   0  28 255 255 255 153 255 255 255 255 255 255 160   0   0   0   0   0   0   0   0   0   0]\n",
            " [  0   0   0   0   0   0  27 255 255 255 255 255 255 255 255 255 255 255  99   0   0   0   0   0   0   0   0   0]\n",
            " [  0   0   0   0   0   0  27 255 255 255 255 255 253  77  71 248 255 255 119   0   0   0   0   0   0   0   0   0]\n",
            " [  0   0   0   0   0   0  28 255 255 255 209 163   0   0   0 174 255 255 119   0   0   0   0   0   0   0   0   0]\n",
            " [  0   0   0   0   0   0  27 255 255 255   0   0   0   0   0 223 255 255 119   0   0   0   0   0   0   0   0   0]\n",
            " [  0   0   0   0   0   0  28 255 255 255   0   0   0   0   6 255 255 255  81   0   0   0   0   0   0   0   0   0]\n",
            " [  0   0   0   0   0   0  28 255 255 255 122   2   2   3 242 255 255 255   0   0   0   0   0   0   0   0   0   0]\n",
            " [  0   0   0   0   0   0  17 255 255 255 255 255 255 255 255 255 255 140   0   0   0   0   0   0   0   0   0   0]\n",
            " [  0   0   0   0   0   0   0  73 255 255 255 255 255 255 255 255 249   0   0   0   0   0   0   0   0   0   0   0]\n",
            " [  0   0   0   0   0   0   0   0   2  86 167 167 167 167 167 133   2   0   0   0   0   0   0   0   0   0   0   0]\n",
            " [  0   0   0   0   0   0   0   0   0   0   0   0   0   0   0   0   0   0   0   0   0   0   0   0   0   0   0   0]\n",
            " [  0   0   0   0   0   0   0   0   0   0   0   0   0   0   0   0   0   0   0   0   0   0   0   0   0   0   0   0]\n",
            " [  0   0   0   0   0   0   0   0   0   0   0   0   0   0   0   0   0   0   0   0   0   0   0   0   0   0   0   0]\n",
            " [  0   0   0   0   0   0   0   0   0   0   0   0   0   0   0   0   0   0   0   0   0   0   0   0   0   0   0   0]\n",
            " [  0   0   0   0   0   0   0   0   0   0   0   0   0   0   0   0   0   0   0   0   0   0   0   0   0   0   0   0]\n",
            " [  0   0   0   0   0   0   0   0   0   0   0   0   0   0   0   0   0   0   0   0   0   0   0   0   0   0   0   0]]\n"
          ]
        }
      ]
    },
    {
      "cell_type": "code",
      "source": [
        "prediction = new_model.predict(test_img)[0]\n",
        "classname = np.argmax(prediction)\n",
        "print(\"Class: \",classname)\n",
        "\n",
        "probability = prediction[classname]\n",
        "print(\"Confidence: \",probability)"
      ],
      "metadata": {
        "colab": {
          "base_uri": "https://localhost:8080/"
        },
        "id": "0h5YuEclIMJt",
        "outputId": "5d3ecd26-1f9e-4893-c1e5-1cfeb3fb5cdd"
      },
      "execution_count": null,
      "outputs": [
        {
          "output_type": "stream",
          "name": "stdout",
          "text": [
            "Class:  4\n",
            "Confidence:  0.73664945\n"
          ]
        }
      ]
    },
    {
      "cell_type": "code",
      "source": [
        ""
      ],
      "metadata": {
        "id": "7kY50pGlIwO0"
      },
      "execution_count": null,
      "outputs": []
    }
  ]
}